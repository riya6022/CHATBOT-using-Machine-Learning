{
 "cells": [
  {
   "cell_type": "code",
   "execution_count": 97,
   "metadata": {
    "id": "Qj1c_Xeyqzui"
   },
   "outputs": [],
   "source": [
    "#ALL THE REQUIRED LIBRARIES\n",
    "import numpy as np\n",
    "import nltk\n",
    "import string\n",
    "import random"
   ]
  },
  {
   "cell_type": "code",
   "execution_count": 98,
   "metadata": {
    "id": "miPRHt73GmuW"
   },
   "outputs": [],
   "source": [
    "#READING THE CORPUS\n",
    "df= open('/content/chatbott.txt','r',errors='ignore')\n",
    "raw= df.read()"
   ]
  },
  {
   "cell_type": "code",
   "execution_count": 99,
   "metadata": {
    "colab": {
     "base_uri": "https://localhost:8080/",
     "height": 191
    },
    "id": "dBL6Oe2KHJsf",
    "outputId": "74a42fae-d31d-45ca-8585-167e66466644"
   },
   "outputs": [
    {
     "data": {
      "application/vnd.google.colaboratory.intrinsic+json": {
       "type": "string"
      },
      "text/plain": [
       "' \\nChatbots can be as simple as rudimentary programs that answer a simple query with a single-line response. It allows humans to interact with digital devices as if they were communicating with a real person.\\n\\nFor example, you’re at your computer researching a product, and a window pops up on your screen asking if you need help. \\nWorking of chatbot... Driven by AI, automated rules, natural-language processing (NLP), and machine learning (ML), chatbots process data to deliver responses to requests of all kinds.\\n\\n\\nChatbots can be as simple as rudimentary programs that answer a simple query with a single-line response.It allows humans to interact with digital devices as if they were communicating with a real person.There are two main types of chatbots  Task-oriented (declarative) chatbots and predictive (conversational) chatbots.\\n\\n\\n\\n Task-oriented chatbots are single-purpose programs that focus on performing one function.  \\n predictive chatbots are often referred to as virtual assistants or digital assistants, and they are much more sophisticated, interactive, and personalized than task-oriented chatbots.\\n\\nThe value chatbots bring to businesses and customers:Chatbots boost operational efficiency and bring cost savings to businesses while offering convenience and added services to internal employees and external customers. They allow companies to easily resolve many types of customer queries and issues while reducing the need for human interaction.\\n\\nChatbots created for digitization.Digitization is transforming society into a “mobile-first” population. As messaging applications grow in popularity chatbots are increasingly playing an important role in this mobility-driven transformation. Intelligent conversational chatbots are often interfaces for mobile applications and are changing the way businesses and customers interact.\\n\\nChatbots allow businesses to connect with customers in a personal way without the expense of human representatives. \\n\\n\\nThe original chatbot was the phone tree, which led phone-in customers on an often cumbersome and frustrating path of selecting one option after another to wind their way through an automated customer service model. Enhancements in technology and the growing sophistication of AI, ML, and NLP evolved this model into pop-up, live, onscreen chats. And the evolutionary journey has continued.\\n\\n\\nCommon chatbot uses : Chatbots are frequently used to improve the IT service management experience,which delves towards self-service and automating processes offered to internal staff. With an intelligent chatbot, common tasks such as password updates, system status, outage alerts, and knowledge management can be readily automated and made available 24/7, while broadening access to commonly used voice and text based conversational interfaces.\\n\\nOn the business side,chatbots are most commonly used in customer contact centers to manage incoming communications and direct customers to the appropriate resource. They’re also frequently used for internal purposes, such as onboarding new employees and helping all employees with routine activities including vacation scheduling, training, ordering computers and business supplies, and other self-service activities that don’t require human intervention.\\n\\nOn the consumer side,chatbots are performing a variety of customer services, ranging from ordering event tickets to booking and checking into hotels to comparing products and services. Chatbots are also commonly used to perform routine customer activities within the banking, retail, and food and beverage sectors.  \\n There are some misconceptions about the term chatbot.Although the terms chatbot and bot are sometimes used interchangeably,a bot is simply an automated program that can be used either for legitimate or malicious purposes. The negative connotation around the word bot is attributable to a history of hackers using automated programs to infiltrate, usurp, and generally cause havoc in the digital ecosystem.\\n  chatbots can be as simple as rudimentary programs that answer a simple query with a single-line response. It allows humans to interact with digital devices as if they were communicating with a real person.\\n\\nThere are many widely available tools that allow anyone to create a chatbot.Some of these tools are oriented toward business uses (such as internal operations) and others are oriented toward consumers.\\n  \\n\\nThe future of chatbots: Chatbots will  further enhance human capabilities and free humans to be more creative and innovative, spending more of their time on strategic rather than tactical activities.\\n'"
      ]
     },
     "execution_count": 99,
     "metadata": {},
     "output_type": "execute_result"
    }
   ],
   "source": [
    "raw"
   ]
  },
  {
   "cell_type": "code",
   "execution_count": 107,
   "metadata": {
    "colab": {
     "base_uri": "https://localhost:8080/"
    },
    "id": "ALquJAYDHP08",
    "outputId": "27a1a2e5-2789-4b3b-a65a-5d5b2403d44b"
   },
   "outputs": [
    {
     "name": "stderr",
     "output_type": "stream",
     "text": [
      "[nltk_data] Downloading package wordnet to /root/nltk_data...\n",
      "[nltk_data]   Package wordnet is already up-to-date!\n",
      "[nltk_data] Downloading package punkt to /root/nltk_data...\n",
      "[nltk_data]   Package punkt is already up-to-date!\n",
      "[nltk_data] Downloading package omw-1.4 to /root/nltk_data...\n",
      "[nltk_data]   Package omw-1.4 is already up-to-date!\n"
     ]
    }
   ],
   "source": [
    "#PREPROCESSING\n",
    "raw = raw.lower() #Converting text to lowercase\n",
    "nltk.download('wordnet') #Using the wordnet dictionary\n",
    "nltk.download('punkt') #Using the Punkt Tokenizer\n",
    "nltk.download('omw-1.4')\n",
    "sentence_tokens = nltk.sent_tokenize(raw) #Splitting a sentence, paragraph  into smaller units.\n",
    "word_tokens = nltk.word_tokenize(raw) #Splitting words"
   ]
  },
  {
   "cell_type": "code",
   "execution_count": 109,
   "metadata": {
    "colab": {
     "base_uri": "https://localhost:8080/"
    },
    "id": "9-cgacVKIO7c",
    "outputId": "894f7254-a582-4657-fcba-bec2febbf007"
   },
   "outputs": [
    {
     "name": "stdout",
     "output_type": "stream",
     "text": [
      "[' \\nchatbots can be as simple as rudimentary programs that answer a simple query with a single-line response.', 'it allows humans to interact with digital devices as if they were communicating with a real person.', 'for example, you’re at your computer researching a product, and a window pops up on your screen asking if you need help.', 'working of chatbot... driven by ai, automated rules, natural-language processing (nlp), and machine learning (ml), chatbots process data to deliver responses to requests of all kinds.']\n",
      "['programs', 'that', 'answer']\n"
     ]
    }
   ],
   "source": [
    "#After Tokenization\n",
    "print(sentence_tokens[:4])\n",
    "print(word_tokens[7:10])"
   ]
  },
  {
   "cell_type": "code",
   "execution_count": 102,
   "metadata": {
    "id": "d_uJKU8fI8TK"
   },
   "outputs": [],
   "source": [
    "#Performing Text-preprocessing Steps\n",
    "lemmer= nltk.stem.WordNetLemmatizer() #It will lemmatize a word based on its context \n",
    "def LemTokens(tokens):\n",
    "  return [lemmer.lemmatize(token) for token in tokens]\n",
    "remove_punc_dict = dict((ord(punct),None) for punct in string.punctuation)\n",
    "def LenNormalize(text):\n",
    "  return LemTokens(nltk.word_tokenize(text.lower().translate(remove_punc_dict)))"
   ]
  },
  {
   "cell_type": "code",
   "execution_count": 113,
   "metadata": {
    "id": "N7JkTSuNK4wj"
   },
   "outputs": [],
   "source": [
    "#Greeting Functions\n",
    "greet_inputs =('hi','hello','hey')\n",
    "greet_responses= ('hi! , How can i help you?','Hey There!, How can i help you?','Hello!, How can i help you?')\n",
    "def greet(sentence):\n",
    "  for word in sentence.split():\n",
    "    if word.lower() in greet_inputs:\n",
    "      return random.choice(greet_responses)"
   ]
  },
  {
   "cell_type": "code",
   "execution_count": 114,
   "metadata": {
    "id": "FihWm12ERvli"
   },
   "outputs": [],
   "source": [
    "#For the Intelligence of the bot \n",
    "from sklearn.feature_extraction.text import TfidfVectorizer\n",
    "from sklearn.metrics.pairwise import cosine_similarity"
   ]
  },
  {
   "cell_type": "code",
   "execution_count": 115,
   "metadata": {
    "id": "WLtAdEK1SXQK"
   },
   "outputs": [],
   "source": [
    "#Response Generation by the Bot\n",
    "def response(user_response):\n",
    "  robo1_response = ''\n",
    "  TfidVec = TfidfVectorizer(tokenizer = LenNormalize , stop_words = 'english')\n",
    "  tfidf = TfidVec.fit_transform(sentence_tokens)\n",
    "  vals= cosine_similarity(tfidf[-1],tfidf)\n",
    "  idx=vals.argsort()[0][-2]\n",
    "  flat = vals.flatten()\n",
    "  flat.sort()\n",
    "  req_tfidf = flat[-2]\n",
    "  if (req_tfidf == 0):\n",
    "    robo1_response = robo1_response + 'I am Sorry . Unable to Understand you!. The Bot is still on Process to Keep Up to You'\n",
    "    return robo1_response\n",
    "  else:\n",
    "    robo1_response =robo1_response + sentence_tokens[idx]\n",
    "    return robo1_response\n",
    "  "
   ]
  },
  {
   "cell_type": "code",
   "execution_count": 116,
   "metadata": {
    "colab": {
     "base_uri": "https://localhost:8080/"
    },
    "id": "fwFhOU6rU8zG",
    "outputId": "2b8a2c0b-cfba-42ed-912b-b43b09a6e6af"
   },
   "outputs": [
    {
     "name": "stdout",
     "output_type": "stream",
     "text": [
      "Hello! I am a Learning Bot. Let s have a Conversation regarding Bots!\n",
      ".....For ending convo type quit!\n",
      "Hello\n",
      "Bot : Hello!, How can i help you?\n",
      "Can you tell me about chatbots\n",
      "Bot:chatbots can be as simple as rudimentary programs that answer a simple query with a single-line response.it allows humans to interact with digital devices as if they were communicating with a real person.there are two main types of chatbots  task-oriented (declarative) chatbots and predictive (conversational) chatbots.\n",
      "quit\n",
      "Bot: Thank You! Have a Good Time.\n"
     ]
    }
   ],
   "source": [
    "#Defining the ChatFlow \n",
    "flag = True \n",
    "print('Hello! I am a Learning Bot. Let s have a Conversation regarding Bots!')\n",
    "print('.....For ending convo type quit!')\n",
    "while(flag == True):\n",
    "  user_response = input()\n",
    "  user_response = user_response.lower()\n",
    "  if(user_response != 'quit'):\n",
    "    if(user_response == 'thank you ' or user_response =='thanks'):\n",
    "      flag = False\n",
    "      print('Bot : You are Welcome..')\n",
    "    else:\n",
    "      if(greet(user_response) != None):\n",
    "        print('Bot : ' + greet(user_response))\n",
    "      else:\n",
    "        sentence_tokens.append(user_response)\n",
    "        word_tokens = word_tokens + nltk.word_tokenize(user_response)\n",
    "        final_words = list(set(word_tokens))\n",
    "        print('Bot:',end = '')\n",
    "        print(response(user_response))\n",
    "        sentence_tokens.remove(user_response)\n",
    "  else:\n",
    "    flag = False \n",
    "    print('Bot: Thank You! Have a Good Time.')\n"
   ]
  }
 ],
 "metadata": {
  "colab": {
   "provenance": []
  },
  "kernelspec": {
   "display_name": "Python 3",
   "language": "python",
   "name": "python3"
  },
  "language_info": {
   "codemirror_mode": {
    "name": "ipython",
    "version": 3
   },
   "file_extension": ".py",
   "mimetype": "text/x-python",
   "name": "python",
   "nbconvert_exporter": "python",
   "pygments_lexer": "ipython3",
   "version": "3.8.5"
  }
 },
 "nbformat": 4,
 "nbformat_minor": 1
}
